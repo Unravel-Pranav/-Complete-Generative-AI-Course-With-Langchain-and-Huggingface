{
 "cells": [
  {
   "cell_type": "code",
   "execution_count": 1,
   "metadata": {},
   "outputs": [],
   "source": [
    "class BankAccount:\n",
    "    def __init__(self,owner,balance=0):\n",
    "        self.owner=owner\n",
    "        self.balance=balance\n",
    "        \n",
    "    def deposit(self,balance):\n",
    "        self.balance+=balance\n",
    "        print(f\"{balance} is Deposited, Your New Balance is {self.balance}\")\n",
    "        \n",
    "    def withdraw(self,balance):\n",
    "        if (balance>self.balance):\n",
    "            print(\"Insufficient balance\")\n",
    "        else:\n",
    "            self.balance-=balance\n",
    "            print(f\"{balance} is Withdrawn, New Balance is {self.balance}\")\n",
    "        \n",
    "    def showBalance(self):\n",
    "        print(f\"Your Balance is {self.balance}\")"
   ]
  },
  {
   "cell_type": "code",
   "execution_count": 2,
   "metadata": {},
   "outputs": [],
   "source": [
    "Account1=BankAccount(\"Pranav\")"
   ]
  },
  {
   "cell_type": "code",
   "execution_count": 3,
   "metadata": {},
   "outputs": [
    {
     "name": "stdout",
     "output_type": "stream",
     "text": [
      "1000 is Deposited, Your New Balance is 1000\n"
     ]
    }
   ],
   "source": [
    "Account1.deposit(1000)"
   ]
  },
  {
   "cell_type": "code",
   "execution_count": 4,
   "metadata": {},
   "outputs": [
    {
     "name": "stdout",
     "output_type": "stream",
     "text": [
      "45000 is Deposited, Your New Balance is 46000\n"
     ]
    }
   ],
   "source": [
    "Account1.deposit(45000)"
   ]
  },
  {
   "cell_type": "code",
   "execution_count": 5,
   "metadata": {},
   "outputs": [
    {
     "name": "stdout",
     "output_type": "stream",
     "text": [
      "4000 is Withdrawn, New Balance is 42000\n"
     ]
    }
   ],
   "source": [
    "Account1.withdraw(4000)"
   ]
  },
  {
   "cell_type": "code",
   "execution_count": 6,
   "metadata": {},
   "outputs": [
    {
     "name": "stdout",
     "output_type": "stream",
     "text": [
      "Your Balance is 42000\n"
     ]
    }
   ],
   "source": [
    "Account1.showBalance()"
   ]
  }
 ],
 "metadata": {
  "kernelspec": {
   "display_name": "Python 3",
   "language": "python",
   "name": "python3"
  },
  "language_info": {
   "codemirror_mode": {
    "name": "ipython",
    "version": 3
   },
   "file_extension": ".py",
   "mimetype": "text/x-python",
   "name": "python",
   "nbconvert_exporter": "python",
   "pygments_lexer": "ipython3",
   "version": "3.12.0"
  }
 },
 "nbformat": 4,
 "nbformat_minor": 2
}
