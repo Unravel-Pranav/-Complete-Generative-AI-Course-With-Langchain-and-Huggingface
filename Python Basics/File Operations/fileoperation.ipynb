{
 "cells": [
  {
   "cell_type": "code",
   "execution_count": 1,
   "metadata": {},
   "outputs": [
    {
     "name": "stdout",
     "output_type": "stream",
     "text": [
      "Hello how are you ?\n",
      "I am good\n",
      "My name is Pranav and Future Data Scientist\n"
     ]
    }
   ],
   "source": [
    "##Read a Whole File\n",
    "with open('example.txt','r') as file:\n",
    "    content=file.read()\n",
    "    print(content)"
   ]
  },
  {
   "cell_type": "code",
   "execution_count": 4,
   "metadata": {},
   "outputs": [
    {
     "name": "stdout",
     "output_type": "stream",
     "text": [
      "Hello how are you ?\n",
      "I am good\n",
      "My name is Pranav and Future Data Scientist\n"
     ]
    }
   ],
   "source": [
    "##Read line by line\n",
    "with open('example.txt','r') as file:\n",
    "    for line in file:\n",
    "        print(line.strip())   //.strip() removes the newline character"
   ]
  },
  {
   "cell_type": "code",
   "execution_count": 5,
   "metadata": {},
   "outputs": [],
   "source": [
    "#Writting the file\n",
    "with open('example.txt','w') as file:\n",
    "    file.write('Hello Pranav i know youuuuu bro')\n",
    "    file.write('This is a new line')\n",
    "    \n",
    "    ## So it has overwritten the file check down"
   ]
  },
  {
   "cell_type": "code",
   "execution_count": 6,
   "metadata": {},
   "outputs": [
    {
     "name": "stdout",
     "output_type": "stream",
     "text": [
      "Hello Pranav i know youuuuu broThis is a new line\n"
     ]
    }
   ],
   "source": [
    "##Read a Whole File\n",
    "with open('example.txt','r') as file:\n",
    "    content=file.read()\n",
    "    print(content)  "
   ]
  },
  {
   "cell_type": "code",
   "execution_count": 7,
   "metadata": {},
   "outputs": [],
   "source": [
    "##Write a file (without overwritting)\n",
    "with open('example.txt.','a') as file:\n",
    "    file.write(\"Append opration is taking place\")"
   ]
  },
  {
   "cell_type": "code",
   "execution_count": 8,
   "metadata": {},
   "outputs": [
    {
     "name": "stdout",
     "output_type": "stream",
     "text": [
      "Hello Pranav i know youuuuu broThis is a new lineAppend opration is taking place\n"
     ]
    }
   ],
   "source": [
    "##Read a Whole File\n",
    "with open('example.txt','r') as file:\n",
    "    content=file.read()\n",
    "    print(content)"
   ]
  },
  {
   "cell_type": "code",
   "execution_count": 11,
   "metadata": {},
   "outputs": [
    {
     "name": "stdout",
     "output_type": "stream",
     "text": [
      "Hello Pranav i know youuuuu broThis is a new lineAppend opration is taking placeFirst line\n",
      "Secound line \n",
      "Third line \n",
      "First line\n",
      "Second line \n",
      "Third line \n",
      "First line\n",
      "Second line \n",
      "Third line \n",
      "\n"
     ]
    }
   ],
   "source": [
    "## writing a list of lines to a file\n",
    "\n",
    "lines=['First line\\n','Second line \\n','Third line \\n']\n",
    "with open('example.txt','a') as file:\n",
    "    file.writelines(lines)\n",
    "    \n",
    "##Read a Whole File\n",
    "with open('example.txt','r') as file:\n",
    "    content=file.read()\n",
    "    print(content)"
   ]
  },
  {
   "cell_type": "code",
   "execution_count": 12,
   "metadata": {},
   "outputs": [],
   "source": [
    "##Binary Files\n",
    "##Writing to a binary file\n",
    "\n",
    "data=b'\\x00\\x01\\x02\\x03\\x04'\n",
    "with open('example.bin','wb') as file:\n",
    "    file.write(data)"
   ]
  },
  {
   "cell_type": "code",
   "execution_count": 14,
   "metadata": {},
   "outputs": [
    {
     "name": "stdout",
     "output_type": "stream",
     "text": [
      "b'\\x00\\x01\\x02\\x03\\x04'\n"
     ]
    }
   ],
   "source": [
    "#Read Binary file\n",
    "with open('example.bin','rb') as file:\n",
    "     s=file.read()\n",
    "     print(s)"
   ]
  },
  {
   "cell_type": "code",
   "execution_count": 15,
   "metadata": {},
   "outputs": [],
   "source": [
    "# Read the content from a source txt file and write in destination txt file\n",
    "\n",
    "with open('example.txt','r') as source_file:\n",
    "    content =source_file.read()\n",
    "    \n",
    "with open('destination.txt','w') as destination_file:\n",
    "    destination_file.write(content)"
   ]
  },
  {
   "cell_type": "code",
   "execution_count": 16,
   "metadata": {},
   "outputs": [
    {
     "name": "stdout",
     "output_type": "stream",
     "text": [
      "Lines:9,Words:31,Characters:189\n"
     ]
    }
   ],
   "source": [
    "# Read a txt file and count the no of words,lines and characters\n",
    "def count_text_file(file_path):\n",
    "    with open(file_path,'r') as file:\n",
    "        lines=file.readlines()\n",
    "        line_count=len(lines)\n",
    "        word_count=sum(len(line.split()) for line in lines)\n",
    "        char_count=sum(len(line) for line in lines)\n",
    "    return line_count,word_count,char_count\n",
    "\n",
    "file_path='example.txt'\n",
    "lines,words,characters = count_text_file(file_path)\n",
    "print(f'Lines:{lines},Words:{words},Characters:{characters}')\n"
   ]
  },
  {
   "cell_type": "markdown",
   "metadata": {},
   "source": [
    "W+ mode is used to open a file in both reading and writing mode.If file does not exists, it will be created. If the file exists , its contents is truncated(i.e overwritten)"
   ]
  },
  {
   "cell_type": "code",
   "execution_count": 18,
   "metadata": {},
   "outputs": [
    {
     "name": "stdout",
     "output_type": "stream",
     "text": [
      "Hello world\n",
      "This is a new lineeee\n"
     ]
    }
   ],
   "source": [
    "#writing and then reading a file\n",
    "\n",
    "with open('example.txt','w+') as file:\n",
    "        file.write(\"Hello world\\n\")\n",
    "        file.write(\"This is a new lineeee\")\n",
    "        \n",
    "    ##Move the file cursor to beginning\n",
    "        file.seek(0)\n",
    "        content= file.read()\n",
    "        print(content)\n",
    "        \n",
    "\n"
   ]
  },
  {
   "cell_type": "code",
   "execution_count": 2,
   "metadata": {},
   "outputs": [
    {
     "name": "stdout",
     "output_type": "stream",
     "text": [
      "Directory 'package was created\n"
     ]
    }
   ],
   "source": [
    "# Create a new Directory\n",
    "import os\n",
    "\n",
    "new_directory=\"package\"\n",
    "os.mkdir(new_directory)\n",
    "print(f\"Directory '{new_directory} was created\")"
   ]
  },
  {
   "cell_type": "code",
   "execution_count": 3,
   "metadata": {},
   "outputs": [
    {
     "name": "stdout",
     "output_type": "stream",
     "text": [
      "['destination.txt', 'example.bin', 'example.txt', 'fileoperation.ipynb', 'package']\n"
     ]
    }
   ],
   "source": [
    "##List all the folders and Directory\n",
    "\n",
    "items =os.listdir('.')\n",
    "print(items)"
   ]
  },
  {
   "cell_type": "code",
   "execution_count": 4,
   "metadata": {},
   "outputs": [
    {
     "name": "stdout",
     "output_type": "stream",
     "text": [
      "folder\\file.txt\n"
     ]
    }
   ],
   "source": [
    "##IMP : Joining Paths\n",
    "\n",
    "dir_name ='folder'\n",
    "file_name=\"file.txt\"\n",
    "full_path = os.path.join(dir_name,file_name)\n",
    "print(full_path)"
   ]
  },
  {
   "cell_type": "code",
   "execution_count": 5,
   "metadata": {},
   "outputs": [
    {
     "name": "stdout",
     "output_type": "stream",
     "text": [
      "c:\\Python\\1-Python Basics\\File Operations\\folder\\file.txt\n"
     ]
    }
   ],
   "source": [
    "dir_name ='folder'\n",
    "file_name=\"file.txt\"\n",
    "full_path = os.path.join(os.getcwd(),dir_name,file_name)\n",
    "print(full_path)"
   ]
  },
  {
   "cell_type": "code",
   "execution_count": 7,
   "metadata": {},
   "outputs": [
    {
     "name": "stdout",
     "output_type": "stream",
     "text": [
      "The path example1.txt does not exits\n"
     ]
    }
   ],
   "source": [
    "path = 'example1.txt'\n",
    "if os.path.exists(path):\n",
    "    print(f\"The path {path} exits\")\n",
    "else:\n",
    "    print(f\"The path {path} does not exits\")"
   ]
  },
  {
   "cell_type": "code",
   "execution_count": 8,
   "metadata": {},
   "outputs": [
    {
     "name": "stdout",
     "output_type": "stream",
     "text": [
      "The path 'example.txt' is a file\n"
     ]
    }
   ],
   "source": [
    "#Checking if a Path is a Fil or Directory\n",
    "path='example.txt'\n",
    "if os.path.isfile(path):\n",
    "    print(f\"The path '{path}' is a file\")\n",
    "elif os.path.isdir(path):\n",
    "    print(f\"The path '{path}' is a Directory\")\n",
    "else:\n",
    "    print(f\"The path '{path}' is neither directory nor file\")"
   ]
  },
  {
   "cell_type": "code",
   "execution_count": 9,
   "metadata": {},
   "outputs": [
    {
     "name": "stdout",
     "output_type": "stream",
     "text": [
      "c:\\Python\\1-Python Basics\\File Operations\\example.txt\n"
     ]
    }
   ],
   "source": [
    "#Getting the absolute path\n",
    "relative_path ='example.txt'\n",
    "absolute_path = os.path.abspath(relative_path)\n",
    "print(absolute_path)"
   ]
  }
 ],
 "metadata": {
  "kernelspec": {
   "display_name": "Python 3",
   "language": "python",
   "name": "python3"
  },
  "language_info": {
   "codemirror_mode": {
    "name": "ipython",
    "version": 3
   },
   "file_extension": ".py",
   "mimetype": "text/x-python",
   "name": "python",
   "nbconvert_exporter": "python",
   "pygments_lexer": "ipython3",
   "version": "3.12.0"
  }
 },
 "nbformat": 4,
 "nbformat_minor": 2
}
